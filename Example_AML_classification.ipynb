{
 "cells": [
  {
   "cell_type": "code",
   "execution_count": 1,
   "id": "a2702ef8-f371-46ae-a500-507c1f717ed2",
   "metadata": {},
   "outputs": [],
   "source": [
    "import torch\n",
    "import torchvision\n",
    "import pandas as pd\n",
    "import numpy as np\n",
    "import matplotlib.pyplot as plt\n",
    "from glob import glob\n",
    "import skorch\n",
    "from imageio import imread\n",
    "from tqdm import tqdm"
   ]
  },
  {
   "cell_type": "code",
   "execution_count": 2,
   "id": "986c9015-29da-4d54-b273-f309938b7569",
   "metadata": {},
   "outputs": [],
   "source": [
    "\n",
    "from skorch.callbacks import LRScheduler,Checkpoint,EpochScoring,EarlyStopping\n",
    "import torch.optim as optim\n",
    "from skorch.helper import predefined_split\n",
    "\n",
    "from skorch import NeuralNetClassifier"
   ]
  },
  {
   "cell_type": "code",
   "execution_count": 34,
   "id": "520ab8fc-4365-4ae2-ae4c-3969a711abcb",
   "metadata": {},
   "outputs": [],
   "source": [
    "from sklearn.metrics import plot_confusion_matrix, matthews_corrcoef, classification_report,confusion_matrix, accuracy_score, balanced_accuracy_score, cohen_kappa_score, f1_score,  precision_score, recall_score\n",
    "from statsmodels.stats.contingency_tables import mcnemar\n",
    "from sklearn.metrics import confusion_matrix,ConfusionMatrixDisplay\n",
    "\n",
    "\n",
    "def classification_complete_report(y_true, y_pred ,labels = None  ): \n",
    "    print(classification_report(y_true, y_pred, labels = labels))\n",
    "    print(15*\"----\")\n",
    "    print(\"matthews correlation coeff: %.4f\" % (matthews_corrcoef(y_true, y_pred)) )\n",
    "    print(\"Cohen Kappa score: %.4f\" % (cohen_kappa_score(y_true, y_pred)) )\n",
    "    print(\"Accuracy: %.4f & balanced Accuracy: %.4f\" % (accuracy_score(y_true, y_pred), balanced_accuracy_score(y_true, y_pred)) )\n",
    "    print(\"macro F1 score: %.4f & micro F1 score: %.4f\" % (f1_score(y_true, y_pred, average = \"macro\"), f1_score(y_true, y_pred, average = \"micro\")) )\n",
    "    print(\"macro Precision score: %.4f & micro Precision score: %.4f\" % (precision_score(y_true, y_pred, average = \"macro\"), precision_score(y_true, y_pred, average = \"micro\")) )\n",
    "    print(\"macro Recall score: %.4f & micro Recall score: %.4f\" % (recall_score(y_true, y_pred, average = \"macro\"), recall_score(y_true, y_pred, average = \"micro\")) )\n",
    "    cm = confusion_matrix(y_true, y_pred,labels= labels)\n",
    "    disp = ConfusionMatrixDisplay(confusion_matrix=cm, display_labels=labels)\n",
    "    disp.plot(cmap=plt.cm.Blues)\n",
    "    plt.show()\n",
    "    print(15*\"----\")"
   ]
  },
  {
   "cell_type": "code",
   "execution_count": 3,
   "id": "7512d4f2-98d0-4330-9cd9-c2bd676397b8",
   "metadata": {},
   "outputs": [
    {
     "name": "stdout",
     "output_type": "stream",
     "text": [
      "Using device: cuda\n",
      "\n",
      "Tesla V100-PCIE-16GB\n",
      "Memory Usage:\n",
      "Allocated: 0.0 GB\n",
      "Cached:    0.0 GB\n"
     ]
    }
   ],
   "source": [
    "# setting device on GPU if available, else CPU\n",
    "device = torch.device('cuda' if torch.cuda.is_available() else 'cpu')\n",
    "print('Using device:', device)\n",
    "print()\n",
    "\n",
    "#Additional Info when using cuda\n",
    "if device.type == 'cuda':\n",
    "    print(torch.cuda.get_device_name(0))\n",
    "    print('Memory Usage:')\n",
    "    print('Allocated:', round(torch.cuda.memory_allocated(0)/1024**3,1), 'GB')\n",
    "    print('Cached:   ', round(torch.cuda.memory_reserved(0)/1024**3,1), 'GB')"
   ]
  },
  {
   "cell_type": "code",
   "execution_count": 4,
   "id": "11bd5583-a41d-45f3-a3f2-13da983c79f8",
   "metadata": {},
   "outputs": [],
   "source": [
    "data_path = \"/storage/groups/qscd01/datasets/191024_AML_Matek/train_val_test/\""
   ]
  },
  {
   "cell_type": "code",
   "execution_count": null,
   "id": "9fe1f643-e453-4a43-95c1-53280b4a3430",
   "metadata": {},
   "outputs": [],
   "source": []
  },
  {
   "cell_type": "code",
   "execution_count": 5,
   "id": "a2a45f28-6c7e-493d-9577-8658ef526608",
   "metadata": {},
   "outputs": [],
   "source": [
    "# creating metadata of files\n",
    "\n",
    "metadata = pd.DataFrame(columns=[\"file\", \"label\", \"set\"])"
   ]
  },
  {
   "cell_type": "code",
   "execution_count": 6,
   "id": "4c931579-7da2-425f-9d33-f9e467c62ea9",
   "metadata": {},
   "outputs": [],
   "source": [
    "## train \n",
    "metadata_dummy =pd.DataFrame(columns=[\"file\", \"label\", \"set\"])\n",
    "metadata_dummy[\"file\"] = glob(data_path +  \"train/*.tiff\")\n",
    "metadata_dummy[\"label\"] = \"unknown\"\n",
    "metadata_dummy[\"set\"] = \"train\"\n",
    "\n",
    "metadata = metadata.append(metadata_dummy, ignore_index = True)\n",
    "\n",
    "## val \n",
    "metadata_dummy =pd.DataFrame(columns=[\"file\", \"label\", \"set\"])\n",
    "metadata_dummy[\"file\"] = glob(data_path +  \"val/*.tiff\")\n",
    "metadata_dummy[\"label\"] = \"unknown\"\n",
    "metadata_dummy[\"set\"] = \"val\"\n",
    "\n",
    "metadata = metadata.append(metadata_dummy, ignore_index = True)\n",
    "\n",
    "\n",
    "## test\n",
    "metadata_dummy =pd.DataFrame(columns=[\"file\", \"label\", \"set\"])\n",
    "metadata_dummy[\"file\"] = glob(data_path +  \"test/*.tiff\")\n",
    "metadata_dummy[\"label\"] = \"unknown\"\n",
    "metadata_dummy[\"set\"] = \"test\"\n",
    "\n",
    "metadata = metadata.append(metadata_dummy, ignore_index = True)\n",
    "metadata_dummy = None\n",
    "\n",
    "metadata[\"label\"] = metadata[\"file\"].str.replace(\"/storage/groups/qscd01/datasets/191024_AML_Matek/train_val_test/\", \"\") \n",
    "metadata[\"label\"] = metadata[\"label\"].str.replace(\"train/\", \"\") \n",
    "metadata[\"label\"] = metadata[\"label\"].str.replace(\"val/\", \"\") \n",
    "metadata[\"label\"] = metadata[\"label\"].str.replace(\"test/\", \"\") \n",
    "metadata[\"label\"] = metadata[\"label\"].str.split(\"_\", n = 0, expand = True).loc[:,0]\n"
   ]
  },
  {
   "cell_type": "code",
   "execution_count": 7,
   "id": "af4f7574-3ee3-471e-a466-b8e440a8e539",
   "metadata": {},
   "outputs": [
    {
     "data": {
      "text/plain": [
       "{'NGS': 0,\n",
       " 'LYT': 1,\n",
       " 'MON': 2,\n",
       " 'MYO': 3,\n",
       " 'NGB': 4,\n",
       " 'EOS': 5,\n",
       " 'EBO': 6,\n",
       " 'BAS': 7,\n",
       " 'PMO': 8,\n",
       " 'MYB': 9,\n",
       " 'MOB': 10,\n",
       " 'KSC': 11,\n",
       " 'MMZ': 12,\n",
       " 'PMB': 13,\n",
       " 'LYA': 14}"
      ]
     },
     "execution_count": 7,
     "metadata": {},
     "output_type": "execute_result"
    }
   ],
   "source": [
    "label_map = dict()\n",
    "\n",
    "for i,cl in enumerate(metadata.label.unique()):\n",
    "    label_map[cl] = i\n",
    "    \n",
    "label_map"
   ]
  },
  {
   "cell_type": "code",
   "execution_count": null,
   "id": "38dff6c2-f0e5-46c8-8f71-2d2c175507c3",
   "metadata": {},
   "outputs": [],
   "source": []
  },
  {
   "cell_type": "code",
   "execution_count": null,
   "id": "b8347d50-e180-4e4d-a819-b4a8514d0077",
   "metadata": {},
   "outputs": [],
   "source": []
  },
  {
   "cell_type": "code",
   "execution_count": 9,
   "id": "b4fe29e4-efe2-41f1-86de-348249c26515",
   "metadata": {},
   "outputs": [],
   "source": [
    "from torch.utils.data import Dataset, DataLoader\n",
    "import copy\n",
    "\n",
    "class DatasetGenerator(Dataset):\n",
    "\n",
    "    def __init__(self, \n",
    "                metadata, \n",
    "                reshape_size=64, \n",
    "                label_map=[],\n",
    "                transform=None,\n",
    "                selected_channels = [0]):\n",
    "\n",
    "        self.metadata = metadata.copy().reset_index(drop = True)\n",
    "        self.reshape_size = reshape_size\n",
    "        self.label_map = label_map\n",
    "        self.transform = transform\n",
    "\n",
    "    def __len__(self):\n",
    "        return len(self.metadata)\n",
    "\n",
    "    def __getitem__(self, idx):\n",
    "\n",
    "        if torch.is_tensor(idx):\n",
    "            idx = idx.tolist()\n",
    "\n",
    "        ## get image and label\n",
    "        h5_file_path = self.metadata.loc[idx,\"file\"]\n",
    "        image= imread(h5_file_path)[:,:,selected_channels]\n",
    "        image = np.transpose(image, (2, 0, 1))\n",
    "        label = self.metadata.loc[idx,\"label\"]\n",
    " \n",
    "\n",
    "        # map numpy array to tensor\n",
    "        image = torch.from_numpy(copy.deepcopy(image)) \n",
    "        image = image.float()\n",
    "        \n",
    "        if self.transform:\n",
    "            image = self.transform(image) \n",
    "        \n",
    "        label = self.label_map[label]\n",
    "        label = torch.tensor(label).long()\n",
    "        return image.float(),  label\n",
    "        \n",
    "        \n",
    "\n",
    "def get_statistics(dataloader, nmb_channels ):\n",
    "\n",
    "    statistics = dict()\n",
    "    \n",
    "    statistics[\"mean\"] = torch.zeros(nmb_channels)\n",
    "    statistics[\"std\"] = torch.zeros(nmb_channels)\n",
    "    for _, data_l in enumerate(tqdm(dataloader), 0):\n",
    "        image, _ = data_l\n",
    "        for n in range(nmb_channels):\n",
    "\n",
    "            statistics[\"mean\"][n] += image[:, n, :, :].mean()\n",
    "            statistics[\"std\"][n] += image[:, n, :, :].std()\n",
    "\n",
    "    # averaging\n",
    "    for k in statistics:\n",
    "        statistics[k] = statistics[k].div_(len(dataloader))\n",
    "\n",
    "    print('statistics used: %s' % (str(statistics)))\n",
    "\n",
    "    return statistics"
   ]
  },
  {
   "cell_type": "code",
   "execution_count": 10,
   "id": "2523826d-8528-4246-bb99-6443a5ccf300",
   "metadata": {},
   "outputs": [],
   "source": [
    "train_index = metadata.set == \"train\"\n",
    "val_index = metadata.set == \"val\"\n",
    "test_index = metadata.set == \"test\""
   ]
  },
  {
   "cell_type": "code",
   "execution_count": 11,
   "id": "127df9ad-b927-42de-ba60-61b670cfdc46",
   "metadata": {},
   "outputs": [],
   "source": [
    "selected_channels = [0,1,2]"
   ]
  },
  {
   "cell_type": "code",
   "execution_count": 12,
   "id": "0031cb64-5305-474c-bf00-a7c948a6fece",
   "metadata": {},
   "outputs": [],
   "source": [
    "reshape_size = 64\n",
    "\n",
    "train_dataset = DatasetGenerator(metadata.loc[train_index ,:], #\n",
    "                                 reshape_size=reshape_size, \n",
    "                                label_map=label_map,\n",
    "                                transform=None,\n",
    "                                selected_channels=selected_channels)"
   ]
  },
  {
   "cell_type": "code",
   "execution_count": 13,
   "id": "0bbb6779-0902-419a-b824-d136b3afaf98",
   "metadata": {},
   "outputs": [],
   "source": [
    "train_loader = torch.utils.data.DataLoader(train_dataset, batch_size = 64, shuffle = True, num_workers = 4)"
   ]
  },
  {
   "cell_type": "code",
   "execution_count": 14,
   "id": "b70473f6-8f5e-44be-9421-5e45c3ef8e04",
   "metadata": {},
   "outputs": [
    {
     "name": "stderr",
     "output_type": "stream",
     "text": [
      "100%|██████████| 2/2 [00:03<00:00,  1.73s/it]"
     ]
    },
    {
     "name": "stdout",
     "output_type": "stream",
     "text": [
      "statistics used: {'mean': tensor([209.5826, 186.7472, 214.0639]), 'std': tensor([42.9258, 65.5434, 25.4092])}\n"
     ]
    },
    {
     "name": "stderr",
     "output_type": "stream",
     "text": [
      "\n"
     ]
    }
   ],
   "source": [
    "stats = get_statistics(train_loader,nmb_channels=len(selected_channels) )"
   ]
  },
  {
   "cell_type": "code",
   "execution_count": 15,
   "id": "26a19fac-dc72-459d-8612-053d01b1c1ec",
   "metadata": {},
   "outputs": [],
   "source": [
    "class AddGaussianNoise(object):\n",
    "    def __init__(self, mean=0., std=1.):\n",
    "        self.std = std\n",
    "        self.mean = mean\n",
    "        \n",
    "    def __call__(self, tensor):\n",
    "        return tensor + torch.randn(tensor.size()) * self.std + self.mean\n",
    "    \n",
    "    def __repr__(self):\n",
    "        return self.__class__.__name__ + '(mean={0}, std={1})'.format(self.mean, self.std)"
   ]
  },
  {
   "cell_type": "code",
   "execution_count": 18,
   "id": "f9e26ab2-4dc7-4350-aa2a-ed8012f8788a",
   "metadata": {},
   "outputs": [],
   "source": [
    "import torch.nn as nn\n",
    "from torchvision.models import resnet18\n",
    "import torch.nn.functional as F\n",
    "\n",
    "class ResNet18Pretrained(nn.Module):\n",
    "    def __init__(self,  \n",
    "                 num_channels=3, \n",
    "                 num_classes=3, \n",
    "                 pretrained=True ,**kwargs):\n",
    "        \n",
    "        super().__init__()\n",
    "        model = resnet18(pretrained=True) \n",
    "        if num_channels != 3:\n",
    "            model.conv1 = nn.Conv2d(num_channels, 64, kernel_size=(7, 7),\n",
    "                                        stride=(2, 2), padding=(3, 3), bias=False)\n",
    "        \n",
    "        num_ftrs = model.fc.in_features\n",
    "        model.fc = nn.Linear(num_ftrs, num_classes)\n",
    "        self.model = model\n",
    "\n",
    "    def forward(self, x):                \n",
    "        return self.model(x)"
   ]
  },
  {
   "cell_type": "code",
   "execution_count": 19,
   "id": "53812bd3-c04e-47de-9c9d-85b9af302c68",
   "metadata": {},
   "outputs": [],
   "source": [
    "resnet_pretrained = ResNet18Pretrained(num_channels=3 , num_classes = len(metadata.label.unique()) )"
   ]
  },
  {
   "cell_type": "code",
   "execution_count": 27,
   "id": "6b60f410-3401-4577-a59f-0f2ae7c788d1",
   "metadata": {},
   "outputs": [],
   "source": [
    "\n",
    "from torchvision import transforms\n",
    "eps = 1e-16\n",
    "stats[\"std\"] = stats[\"std\"] + eps\n",
    "train_transform = transforms.Compose([ \n",
    "        torchvision.transforms.Normalize(\n",
    "                mean=stats[\"mean\"],\n",
    "                std=stats[\"std\"],\n",
    "            ),\n",
    "        transforms.RandomResizedCrop(reshape_size, scale=(0.8, 1.0), ratio=(0.8, 1.2)),\n",
    "        transforms.RandomHorizontalFlip(),\n",
    "        transforms.RandomVerticalFlip(),\n",
    "        AddGaussianNoise(mean=0., std=0.02),\n",
    "])\n",
    "\n",
    "\n",
    "\n",
    "train_dataset = DatasetGenerator(metadata.loc[train_index ,:], \n",
    "                                 reshape_size=reshape_size, \n",
    "                                label_map=label_map, \n",
    "                                 transform = train_transform)\n",
    "\n",
    "val_transform = transforms.Compose([ \n",
    "        torchvision.transforms.Normalize(\n",
    "                mean=stats[\"mean\"],\n",
    "                std=stats[\"std\"],\n",
    "            ),\n",
    "        transforms.Resize(reshape_size)])\n",
    "\n",
    "\n",
    "val_dataset = DatasetGenerator(metadata.loc[val_index,:], \n",
    "                                 reshape_size=reshape_size, \n",
    "                                label_map=label_map, \n",
    "                                 transform = val_transform)\n",
    "\n",
    "\n",
    "\n",
    "test_dataset = DatasetGenerator(metadata.loc[test_index,:], \n",
    "                                 reshape_size=reshape_size, \n",
    "                                label_map=label_map, \n",
    "                                 transform = val_transform)"
   ]
  },
  {
   "cell_type": "code",
   "execution_count": 28,
   "id": "726d1aba-8740-452b-8897-0943bb4c0141",
   "metadata": {},
   "outputs": [
    {
     "data": {
      "text/plain": [
       "torch.Size([3, 64, 64])"
      ]
     },
     "execution_count": 28,
     "metadata": {},
     "output_type": "execute_result"
    }
   ],
   "source": [
    "test_dataset[0][0].shape"
   ]
  },
  {
   "cell_type": "code",
   "execution_count": 29,
   "id": "5a2e0ca3-7e80-4d2e-840e-a817062563a0",
   "metadata": {},
   "outputs": [
    {
     "data": {
      "text/plain": [
       "<matplotlib.image.AxesImage at 0x7f0ec2edf610>"
      ]
     },
     "execution_count": 29,
     "metadata": {},
     "output_type": "execute_result"
    },
    {
     "data": {
      "image/png": "[encoded data removed]",
      "text/plain": [
       "<Figure size 432x288 with 1 Axes>"
      ]
     },
     "metadata": {
      "needs_background": "light"
     },
     "output_type": "display_data"
    }
   ],
   "source": [
    "plt.imshow(test_dataset[0][0][0,:,:])"
   ]
  },
  {
   "cell_type": "code",
   "execution_count": 30,
   "id": "14850e94-33b5-439f-9c32-073e34578256",
   "metadata": {},
   "outputs": [],
   "source": [
    "\n",
    "\n",
    "lr_scheduler = LRScheduler(policy='StepLR', step_size=5, gamma=0.6)\n",
    "checkpoint = Checkpoint(f_params='resnet_18_aml.pth', monitor='valid_acc_best')\n",
    "\n",
    "\n",
    "epoch_scoring = EpochScoring(\"f1_macro\", name = \n",
    "                       \"valid_f1_macro\",\n",
    "                       on_train = False,\n",
    "                       lower_is_better = False)\n",
    "\n",
    "early_stopping = EarlyStopping(monitor='valid_f1_macro', \n",
    "                               patience=50, \n",
    "                               threshold=0.0001, \n",
    "                               threshold_mode='rel', \n",
    "                               lower_is_better=False)\n",
    "\n",
    "model = NeuralNetClassifier(    \n",
    "    resnet_pretrained, \n",
    "    criterion=nn.CrossEntropyLoss,\n",
    "    lr=0.001,\n",
    "    batch_size=64,\n",
    "    max_epochs=1000,\n",
    "    optimizer=optim.Adam,\n",
    "    iterator_train__shuffle=True,\n",
    "    iterator_train__num_workers=3,\n",
    "    iterator_valid__shuffle=False,\n",
    "    iterator_valid__num_workers=1,\n",
    "    callbacks=[lr_scheduler,checkpoint, epoch_scoring, early_stopping],\n",
    "    train_split=predefined_split(val_dataset),\n",
    "    device=\"cuda\",\n",
    "    warm_start=True)"
   ]
  },
  {
   "cell_type": "code",
   "execution_count": 31,
   "id": "6479223d-9857-4e91-8e97-92156d2f7581",
   "metadata": {},
   "outputs": [
    {
     "name": "stdout",
     "output_type": "stream",
     "text": [
      "  epoch    train_loss    valid_acc    valid_f1_macro    valid_loss    cp      lr      dur\n",
      "-------  ------------  -----------  ----------------  ------------  ----  ------  -------\n",
      "      1        \u001b[36m0.6999\u001b[0m       \u001b[32m0.9020\u001b[0m            \u001b[35m0.3887\u001b[0m        \u001b[31m0.5159\u001b[0m     +  0.0010  58.3199\n",
      "      2        \u001b[36m0.3849\u001b[0m       0.8620            0.3623        \u001b[31m0.4466\u001b[0m        0.0010  8.7134\n",
      "      3        \u001b[36m0.3541\u001b[0m       0.8780            0.3789        \u001b[31m0.3855\u001b[0m        0.0010  4.2170\n",
      "      4        \u001b[36m0.2892\u001b[0m       \u001b[32m0.9280\u001b[0m            \u001b[35m0.4076\u001b[0m        \u001b[31m0.2754\u001b[0m     +  0.0010  4.1459\n",
      "      5        \u001b[36m0.2538\u001b[0m       0.9020            0.3884        \u001b[31m0.2685\u001b[0m        0.0010  4.2323\n",
      "      6        \u001b[36m0.2208\u001b[0m       \u001b[32m0.9300\u001b[0m            \u001b[35m0.4119\u001b[0m        \u001b[31m0.2531\u001b[0m     +  0.0006  4.1973\n",
      "      7        \u001b[36m0.1905\u001b[0m       \u001b[32m0.9420\u001b[0m            \u001b[35m0.4217\u001b[0m        \u001b[31m0.2437\u001b[0m     +  0.0006  4.3144\n",
      "      8        \u001b[36m0.1863\u001b[0m       0.9240            0.4139        0.2479        0.0006  4.3000\n",
      "      9        \u001b[36m0.1764\u001b[0m       0.9260            \u001b[35m0.4827\u001b[0m        0.2863        0.0006  4.1629\n",
      "     10        0.1866       0.9000            0.3910        0.3561        0.0006  4.2154\n",
      "     11        \u001b[36m0.1608\u001b[0m       0.9300            \u001b[35m0.5053\u001b[0m        \u001b[31m0.2270\u001b[0m        0.0004  4.2309\n",
      "     12        \u001b[36m0.1474\u001b[0m       0.9400            0.4202        \u001b[31m0.2103\u001b[0m        0.0004  4.1120\n",
      "     13        \u001b[36m0.1282\u001b[0m       0.9200            0.4539        0.2820        0.0004  4.0541\n",
      "     14        \u001b[36m0.1084\u001b[0m       0.9160            0.4072        0.2681        0.0004  4.1326\n",
      "     15        \u001b[36m0.1080\u001b[0m       0.9360            \u001b[35m0.5096\u001b[0m        0.2254        0.0004  4.3139\n",
      "     16        \u001b[36m0.1010\u001b[0m       0.9400            \u001b[35m0.5531\u001b[0m        \u001b[31m0.1928\u001b[0m        0.0002  3.9469\n",
      "     17        \u001b[36m0.0868\u001b[0m       \u001b[32m0.9500\u001b[0m            0.4694        0.1955     +  0.0002  4.1415\n",
      "     18        \u001b[36m0.0719\u001b[0m       0.9380            0.4643        0.1969        0.0002  4.2129\n",
      "     19        \u001b[36m0.0718\u001b[0m       0.9480            0.5526        0.1994        0.0002  4.3139\n",
      "     20        \u001b[36m0.0657\u001b[0m       0.9480            0.4672        \u001b[31m0.1845\u001b[0m        0.0002  4.1947\n",
      "     21        \u001b[36m0.0555\u001b[0m       0.9480            \u001b[35m0.5611\u001b[0m        0.2108        0.0001  4.1938\n",
      "     22        \u001b[36m0.0496\u001b[0m       0.9420            0.5101        0.1974        0.0001  4.2129\n",
      "     23        0.0585       0.9460            \u001b[35m0.5953\u001b[0m        0.2109        0.0001  4.0195\n",
      "     24        0.0506       0.9460            0.5950        0.2307        0.0001  3.9250\n",
      "     25        \u001b[36m0.0416\u001b[0m       0.9440            0.4531        0.2070        0.0001  4.1281\n",
      "     26        \u001b[36m0.0378\u001b[0m       0.9420            \u001b[35m0.6185\u001b[0m        0.2358        0.0001  4.2155\n",
      "     27        \u001b[36m0.0321\u001b[0m       0.9420            0.5054        0.2356        0.0001  4.3041\n",
      "     28        0.0345       0.9360            0.4979        0.2219        0.0001  4.2155\n",
      "     29        0.0506       0.9400            0.4644        0.2447        0.0001  4.0990\n",
      "     30        0.0389       0.9420            0.5464        0.2170        0.0001  4.2544\n",
      "     31        \u001b[36m0.0301\u001b[0m       0.9500            0.5147        0.2112        0.0000  4.2022\n",
      "     32        0.0308       0.9460            0.5604        0.2364        0.0000  4.0800\n",
      "     33        \u001b[36m0.0271\u001b[0m       0.9400            0.4205        0.2359        0.0000  4.2807\n",
      "     34        0.0297       0.9480            0.5521        0.2333        0.0000  4.2236\n",
      "     35        \u001b[36m0.0239\u001b[0m       0.9420            0.5034        0.2275        0.0000  3.9980\n",
      "     36        0.0260       0.9420            0.4749        0.2290        0.0000  4.1780\n",
      "     37        \u001b[36m0.0202\u001b[0m       0.9420            0.5543        0.2239        0.0000  4.1237\n",
      "     38        \u001b[36m0.0183\u001b[0m       0.9460            0.4682        0.2411        0.0000  4.2109\n",
      "     39        0.0229       0.9460            0.4863        0.2288        0.0000  4.1531\n",
      "     40        0.0218       0.9480            0.5470        0.2342        0.0000  4.1580\n",
      "     41        \u001b[36m0.0140\u001b[0m       0.9440            0.4452        0.2431        0.0000  4.4777\n",
      "     42        0.0142       0.9380            0.4474        0.2397        0.0000  4.2012\n",
      "     43        0.0148       0.9440            0.4458        0.2479        0.0000  4.2766\n",
      "     44        0.0147       0.9380            0.3964        0.2468        0.0000  4.1276\n",
      "     45        0.0156       0.9380            0.4271        0.2426        0.0000  4.1872\n",
      "     46        \u001b[36m0.0134\u001b[0m       0.9400            0.3983        0.2527        0.0000  4.2248\n"
     ]
    }
   ],
   "source": [
    "model = model.fit(train_dataset, y = None)"
   ]
  },
  {
   "cell_type": "code",
   "execution_count": 32,
   "id": "c22821db-e7f9-43fd-ae1a-0ab6ac11c01d",
   "metadata": {},
   "outputs": [
    {
     "data": {
      "text/plain": [
       "<All keys matched successfully>"
      ]
     },
     "execution_count": 32,
     "metadata": {},
     "output_type": "execute_result"
    }
   ],
   "source": [
    "model.module.load_state_dict(torch.load('resnet_18_aml.pth')) \n"
   ]
  },
  {
   "cell_type": "code",
   "execution_count": 35,
   "id": "c3cd7a47-178c-4782-977f-cdca2a3b9621",
   "metadata": {},
   "outputs": [
    {
     "name": "stderr",
     "output_type": "stream",
     "text": [
      "/home/icb/sayedali.boushehri/miniconda3/envs/py39/lib/python3.9/site-packages/sklearn/metrics/_classification.py:1308: UndefinedMetricWarning: Precision and F-score are ill-defined and being set to 0.0 in labels with no predicted samples. Use `zero_division` parameter to control this behavior.\n",
      "  _warn_prf(average, modifier, msg_start, len(result))\n",
      "/home/icb/sayedali.boushehri/miniconda3/envs/py39/lib/python3.9/site-packages/sklearn/metrics/_classification.py:1308: UndefinedMetricWarning: Precision and F-score are ill-defined and being set to 0.0 in labels with no predicted samples. Use `zero_division` parameter to control this behavior.\n",
      "  _warn_prf(average, modifier, msg_start, len(result))\n",
      "/home/icb/sayedali.boushehri/miniconda3/envs/py39/lib/python3.9/site-packages/sklearn/metrics/_classification.py:1308: UndefinedMetricWarning: Precision and F-score are ill-defined and being set to 0.0 in labels with no predicted samples. Use `zero_division` parameter to control this behavior.\n",
      "  _warn_prf(average, modifier, msg_start, len(result))\n",
      "/home/icb/sayedali.boushehri/miniconda3/envs/py39/lib/python3.9/site-packages/sklearn/metrics/_classification.py:1308: UndefinedMetricWarning: Precision is ill-defined and being set to 0.0 in labels with no predicted samples. Use `zero_division` parameter to control this behavior.\n",
      "  _warn_prf(average, modifier, msg_start, len(result))\n"
     ]
    },
    {
     "name": "stdout",
     "output_type": "stream",
     "text": [
      "              precision    recall  f1-score   support\n",
      "\n",
      "           0       0.98      1.00      0.99       246\n",
      "           1       0.93      0.99      0.96       112\n",
      "           2       0.86      0.84      0.85        43\n",
      "           3       0.95      0.87      0.91        79\n",
      "           4       0.00      0.00      0.00         1\n",
      "           5       1.00      0.92      0.96        13\n",
      "           6       0.00      0.00      0.00         1\n",
      "           7       0.50      0.50      0.50         2\n",
      "           8       0.00      0.00      0.00         1\n",
      "          10       0.00      0.00      0.00         1\n",
      "          13       0.00      0.00      0.00         1\n",
      "\n",
      "    accuracy                           0.95       500\n",
      "   macro avg       0.47      0.47      0.47       500\n",
      "weighted avg       0.94      0.95      0.95       500\n",
      "\n",
      "------------------------------------------------------------\n",
      "matthews correlation coeff: 0.9257\n",
      "Cohen Kappa score: 0.9253\n",
      "Accuracy: 0.9500 & balanced Accuracy: 0.4659\n",
      "macro F1 score: 0.4694 & micro F1 score: 0.9500\n",
      "macro Precision score: 0.4738 & micro Precision score: 0.9500\n",
      "macro Recall score: 0.4659 & micro Recall score: 0.9500\n"
     ]
    },
    {
     "data": {
      "image/png": "[encoded data removed]",
      "text/plain": [
       "<Figure size 432x288 with 2 Axes>"
      ]
     },
     "metadata": {
      "needs_background": "light"
     },
     "output_type": "display_data"
    },
    {
     "name": "stdout",
     "output_type": "stream",
     "text": [
      "------------------------------------------------------------\n"
     ]
    }
   ],
   "source": [
    "preds = model.predict(val_dataset)\n",
    "\n",
    "classification_complete_report([label_map[t] for t in val_dataset.metadata.label], \n",
    "                               preds  )"
   ]
  },
  {
   "cell_type": "code",
   "execution_count": 36,
   "id": "f7c14b57-d588-4463-bfcf-a811853c0cd6",
   "metadata": {},
   "outputs": [
    {
     "name": "stderr",
     "output_type": "stream",
     "text": [
      "/home/icb/sayedali.boushehri/miniconda3/envs/py39/lib/python3.9/site-packages/sklearn/metrics/_classification.py:1308: UndefinedMetricWarning: Precision and F-score are ill-defined and being set to 0.0 in labels with no predicted samples. Use `zero_division` parameter to control this behavior.\n",
      "  _warn_prf(average, modifier, msg_start, len(result))\n",
      "/home/icb/sayedali.boushehri/miniconda3/envs/py39/lib/python3.9/site-packages/sklearn/metrics/_classification.py:1308: UndefinedMetricWarning: Precision and F-score are ill-defined and being set to 0.0 in labels with no predicted samples. Use `zero_division` parameter to control this behavior.\n",
      "  _warn_prf(average, modifier, msg_start, len(result))\n",
      "/home/icb/sayedali.boushehri/miniconda3/envs/py39/lib/python3.9/site-packages/sklearn/metrics/_classification.py:1308: UndefinedMetricWarning: Precision and F-score are ill-defined and being set to 0.0 in labels with no predicted samples. Use `zero_division` parameter to control this behavior.\n",
      "  _warn_prf(average, modifier, msg_start, len(result))\n",
      "/home/icb/sayedali.boushehri/miniconda3/envs/py39/lib/python3.9/site-packages/sklearn/metrics/_classification.py:1308: UndefinedMetricWarning: Precision is ill-defined and being set to 0.0 in labels with no predicted samples. Use `zero_division` parameter to control this behavior.\n",
      "  _warn_prf(average, modifier, msg_start, len(result))\n"
     ]
    },
    {
     "name": "stdout",
     "output_type": "stream",
     "text": [
      "              precision    recall  f1-score   support\n",
      "\n",
      "           0       0.98      0.99      0.99       237\n",
      "           1       0.86      0.98      0.92       107\n",
      "           2       0.91      0.82      0.86        49\n",
      "           3       0.95      0.91      0.93        85\n",
      "           5       0.89      0.89      0.89         9\n",
      "           6       1.00      0.83      0.91         6\n",
      "           7       0.00      0.00      0.00         1\n",
      "           8       0.00      0.00      0.00         1\n",
      "           9       0.00      0.00      0.00         1\n",
      "          10       0.00      0.00      0.00         1\n",
      "          11       0.00      0.00      0.00         1\n",
      "          13       0.00      0.00      0.00         1\n",
      "          14       0.00      0.00      0.00         1\n",
      "\n",
      "    accuracy                           0.94       500\n",
      "   macro avg       0.43      0.42      0.42       500\n",
      "weighted avg       0.93      0.94      0.93       500\n",
      "\n",
      "------------------------------------------------------------\n",
      "matthews correlation coeff: 0.9131\n",
      "Cohen Kappa score: 0.9124\n",
      "Accuracy: 0.9400 & balanced Accuracy: 0.4167\n",
      "macro F1 score: 0.4223 & micro F1 score: 0.9400\n",
      "macro Precision score: 0.4302 & micro Precision score: 0.9400\n",
      "macro Recall score: 0.4167 & micro Recall score: 0.9400\n"
     ]
    },
    {
     "data": {
      "image/png": "[encoded data removed]",
      "text/plain": [
       "<Figure size 432x288 with 2 Axes>"
      ]
     },
     "metadata": {
      "needs_background": "light"
     },
     "output_type": "display_data"
    },
    {
     "name": "stdout",
     "output_type": "stream",
     "text": [
      "------------------------------------------------------------\n"
     ]
    }
   ],
   "source": [
    "preds = model.predict(test_dataset)\n",
    "#preds =  [inv_map[int(t)] for t in preds]\n",
    "\n",
    "classification_complete_report([label_map[t] for t in test_dataset.metadata.label],  preds   )"
   ]
  },
  {
   "cell_type": "code",
   "execution_count": null,
   "id": "dbe9a237-a853-4d75-9bca-6307283f5f40",
   "metadata": {},
   "outputs": [],
   "source": []
  }
 ],
 "metadata": {
  "kernelspec": {
   "display_name": "Python 3 (ipykernel)",
   "language": "python",
   "name": "python3"
  },
  "language_info": {
   "codemirror_mode": {
    "name": "ipython",
    "version": 3
   },
   "file_extension": ".py",
   "mimetype": "text/x-python",
   "name": "python",
   "nbconvert_exporter": "python",
   "pygments_lexer": "ipython3",
   "version": "3.9.7"
  }
 },
 "nbformat": 4,
 "nbformat_minor": 5
}
